{
  "nbformat": 4,
  "nbformat_minor": 0,
  "metadata": {
    "colab": {
      "provenance": []
    },
    "kernelspec": {
      "name": "python3",
      "display_name": "Python 3"
    },
    "language_info": {
      "name": "python"
    }
  },
  "cells": [
    {
      "cell_type": "markdown",
      "source": [
        "# Task 4 : Classification with Logistic Regression"
      ],
      "metadata": {
        "id": "mCfYsrEVquLo"
      }
    },
    {
      "cell_type": "markdown",
      "source": [
        "**Step 1** : Load Dataset"
      ],
      "metadata": {
        "id": "v4lC9Z19q__h"
      }
    },
    {
      "cell_type": "code",
      "source": [
        "import pandas as pd      # import library\n",
        "\n",
        "df = pd.read_csv('data.csv')  # Load the dataset\n",
        "df.head()                 # shows first 5 rows"
      ],
      "metadata": {
        "colab": {
          "base_uri": "https://localhost:8080/",
          "height": 273
        },
        "id": "r2SRh2JArCy-",
        "outputId": "4bf346a6-00fa-402a-b422-4fec9962dfa6"
      },
      "execution_count": 14,
      "outputs": [
        {
          "output_type": "execute_result",
          "data": {
            "text/plain": [
              "         id diagnosis  radius_mean  texture_mean  perimeter_mean  area_mean  \\\n",
              "0    842302         M        17.99         10.38          122.80     1001.0   \n",
              "1    842517         M        20.57         17.77          132.90     1326.0   \n",
              "2  84300903         M        19.69         21.25          130.00     1203.0   \n",
              "3  84348301         M        11.42         20.38           77.58      386.1   \n",
              "4  84358402         M        20.29         14.34          135.10     1297.0   \n",
              "\n",
              "   smoothness_mean  compactness_mean  concavity_mean  concave points_mean  \\\n",
              "0          0.11840           0.27760          0.3001              0.14710   \n",
              "1          0.08474           0.07864          0.0869              0.07017   \n",
              "2          0.10960           0.15990          0.1974              0.12790   \n",
              "3          0.14250           0.28390          0.2414              0.10520   \n",
              "4          0.10030           0.13280          0.1980              0.10430   \n",
              "\n",
              "   ...  texture_worst  perimeter_worst  area_worst  smoothness_worst  \\\n",
              "0  ...          17.33           184.60      2019.0            0.1622   \n",
              "1  ...          23.41           158.80      1956.0            0.1238   \n",
              "2  ...          25.53           152.50      1709.0            0.1444   \n",
              "3  ...          26.50            98.87       567.7            0.2098   \n",
              "4  ...          16.67           152.20      1575.0            0.1374   \n",
              "\n",
              "   compactness_worst  concavity_worst  concave points_worst  symmetry_worst  \\\n",
              "0             0.6656           0.7119                0.2654          0.4601   \n",
              "1             0.1866           0.2416                0.1860          0.2750   \n",
              "2             0.4245           0.4504                0.2430          0.3613   \n",
              "3             0.8663           0.6869                0.2575          0.6638   \n",
              "4             0.2050           0.4000                0.1625          0.2364   \n",
              "\n",
              "   fractal_dimension_worst  Unnamed: 32  \n",
              "0                  0.11890          NaN  \n",
              "1                  0.08902          NaN  \n",
              "2                  0.08758          NaN  \n",
              "3                  0.17300          NaN  \n",
              "4                  0.07678          NaN  \n",
              "\n",
              "[5 rows x 33 columns]"
            ],
            "text/html": [
              "\n",
              "  <div id=\"df-ae4dadf3-e9a0-4742-9352-1dbc1a66a0f6\" class=\"colab-df-container\">\n",
              "    <div>\n",
              "<style scoped>\n",
              "    .dataframe tbody tr th:only-of-type {\n",
              "        vertical-align: middle;\n",
              "    }\n",
              "\n",
              "    .dataframe tbody tr th {\n",
              "        vertical-align: top;\n",
              "    }\n",
              "\n",
              "    .dataframe thead th {\n",
              "        text-align: right;\n",
              "    }\n",
              "</style>\n",
              "<table border=\"1\" class=\"dataframe\">\n",
              "  <thead>\n",
              "    <tr style=\"text-align: right;\">\n",
              "      <th></th>\n",
              "      <th>id</th>\n",
              "      <th>diagnosis</th>\n",
              "      <th>radius_mean</th>\n",
              "      <th>texture_mean</th>\n",
              "      <th>perimeter_mean</th>\n",
              "      <th>area_mean</th>\n",
              "      <th>smoothness_mean</th>\n",
              "      <th>compactness_mean</th>\n",
              "      <th>concavity_mean</th>\n",
              "      <th>concave points_mean</th>\n",
              "      <th>...</th>\n",
              "      <th>texture_worst</th>\n",
              "      <th>perimeter_worst</th>\n",
              "      <th>area_worst</th>\n",
              "      <th>smoothness_worst</th>\n",
              "      <th>compactness_worst</th>\n",
              "      <th>concavity_worst</th>\n",
              "      <th>concave points_worst</th>\n",
              "      <th>symmetry_worst</th>\n",
              "      <th>fractal_dimension_worst</th>\n",
              "      <th>Unnamed: 32</th>\n",
              "    </tr>\n",
              "  </thead>\n",
              "  <tbody>\n",
              "    <tr>\n",
              "      <th>0</th>\n",
              "      <td>842302</td>\n",
              "      <td>M</td>\n",
              "      <td>17.99</td>\n",
              "      <td>10.38</td>\n",
              "      <td>122.80</td>\n",
              "      <td>1001.0</td>\n",
              "      <td>0.11840</td>\n",
              "      <td>0.27760</td>\n",
              "      <td>0.3001</td>\n",
              "      <td>0.14710</td>\n",
              "      <td>...</td>\n",
              "      <td>17.33</td>\n",
              "      <td>184.60</td>\n",
              "      <td>2019.0</td>\n",
              "      <td>0.1622</td>\n",
              "      <td>0.6656</td>\n",
              "      <td>0.7119</td>\n",
              "      <td>0.2654</td>\n",
              "      <td>0.4601</td>\n",
              "      <td>0.11890</td>\n",
              "      <td>NaN</td>\n",
              "    </tr>\n",
              "    <tr>\n",
              "      <th>1</th>\n",
              "      <td>842517</td>\n",
              "      <td>M</td>\n",
              "      <td>20.57</td>\n",
              "      <td>17.77</td>\n",
              "      <td>132.90</td>\n",
              "      <td>1326.0</td>\n",
              "      <td>0.08474</td>\n",
              "      <td>0.07864</td>\n",
              "      <td>0.0869</td>\n",
              "      <td>0.07017</td>\n",
              "      <td>...</td>\n",
              "      <td>23.41</td>\n",
              "      <td>158.80</td>\n",
              "      <td>1956.0</td>\n",
              "      <td>0.1238</td>\n",
              "      <td>0.1866</td>\n",
              "      <td>0.2416</td>\n",
              "      <td>0.1860</td>\n",
              "      <td>0.2750</td>\n",
              "      <td>0.08902</td>\n",
              "      <td>NaN</td>\n",
              "    </tr>\n",
              "    <tr>\n",
              "      <th>2</th>\n",
              "      <td>84300903</td>\n",
              "      <td>M</td>\n",
              "      <td>19.69</td>\n",
              "      <td>21.25</td>\n",
              "      <td>130.00</td>\n",
              "      <td>1203.0</td>\n",
              "      <td>0.10960</td>\n",
              "      <td>0.15990</td>\n",
              "      <td>0.1974</td>\n",
              "      <td>0.12790</td>\n",
              "      <td>...</td>\n",
              "      <td>25.53</td>\n",
              "      <td>152.50</td>\n",
              "      <td>1709.0</td>\n",
              "      <td>0.1444</td>\n",
              "      <td>0.4245</td>\n",
              "      <td>0.4504</td>\n",
              "      <td>0.2430</td>\n",
              "      <td>0.3613</td>\n",
              "      <td>0.08758</td>\n",
              "      <td>NaN</td>\n",
              "    </tr>\n",
              "    <tr>\n",
              "      <th>3</th>\n",
              "      <td>84348301</td>\n",
              "      <td>M</td>\n",
              "      <td>11.42</td>\n",
              "      <td>20.38</td>\n",
              "      <td>77.58</td>\n",
              "      <td>386.1</td>\n",
              "      <td>0.14250</td>\n",
              "      <td>0.28390</td>\n",
              "      <td>0.2414</td>\n",
              "      <td>0.10520</td>\n",
              "      <td>...</td>\n",
              "      <td>26.50</td>\n",
              "      <td>98.87</td>\n",
              "      <td>567.7</td>\n",
              "      <td>0.2098</td>\n",
              "      <td>0.8663</td>\n",
              "      <td>0.6869</td>\n",
              "      <td>0.2575</td>\n",
              "      <td>0.6638</td>\n",
              "      <td>0.17300</td>\n",
              "      <td>NaN</td>\n",
              "    </tr>\n",
              "    <tr>\n",
              "      <th>4</th>\n",
              "      <td>84358402</td>\n",
              "      <td>M</td>\n",
              "      <td>20.29</td>\n",
              "      <td>14.34</td>\n",
              "      <td>135.10</td>\n",
              "      <td>1297.0</td>\n",
              "      <td>0.10030</td>\n",
              "      <td>0.13280</td>\n",
              "      <td>0.1980</td>\n",
              "      <td>0.10430</td>\n",
              "      <td>...</td>\n",
              "      <td>16.67</td>\n",
              "      <td>152.20</td>\n",
              "      <td>1575.0</td>\n",
              "      <td>0.1374</td>\n",
              "      <td>0.2050</td>\n",
              "      <td>0.4000</td>\n",
              "      <td>0.1625</td>\n",
              "      <td>0.2364</td>\n",
              "      <td>0.07678</td>\n",
              "      <td>NaN</td>\n",
              "    </tr>\n",
              "  </tbody>\n",
              "</table>\n",
              "<p>5 rows × 33 columns</p>\n",
              "</div>\n",
              "    <div class=\"colab-df-buttons\">\n",
              "\n",
              "  <div class=\"colab-df-container\">\n",
              "    <button class=\"colab-df-convert\" onclick=\"convertToInteractive('df-ae4dadf3-e9a0-4742-9352-1dbc1a66a0f6')\"\n",
              "            title=\"Convert this dataframe to an interactive table.\"\n",
              "            style=\"display:none;\">\n",
              "\n",
              "  <svg xmlns=\"http://www.w3.org/2000/svg\" height=\"24px\" viewBox=\"0 -960 960 960\">\n",
              "    <path d=\"M120-120v-720h720v720H120Zm60-500h600v-160H180v160Zm220 220h160v-160H400v160Zm0 220h160v-160H400v160ZM180-400h160v-160H180v160Zm440 0h160v-160H620v160ZM180-180h160v-160H180v160Zm440 0h160v-160H620v160Z\"/>\n",
              "  </svg>\n",
              "    </button>\n",
              "\n",
              "  <style>\n",
              "    .colab-df-container {\n",
              "      display:flex;\n",
              "      gap: 12px;\n",
              "    }\n",
              "\n",
              "    .colab-df-convert {\n",
              "      background-color: #E8F0FE;\n",
              "      border: none;\n",
              "      border-radius: 50%;\n",
              "      cursor: pointer;\n",
              "      display: none;\n",
              "      fill: #1967D2;\n",
              "      height: 32px;\n",
              "      padding: 0 0 0 0;\n",
              "      width: 32px;\n",
              "    }\n",
              "\n",
              "    .colab-df-convert:hover {\n",
              "      background-color: #E2EBFA;\n",
              "      box-shadow: 0px 1px 2px rgba(60, 64, 67, 0.3), 0px 1px 3px 1px rgba(60, 64, 67, 0.15);\n",
              "      fill: #174EA6;\n",
              "    }\n",
              "\n",
              "    .colab-df-buttons div {\n",
              "      margin-bottom: 4px;\n",
              "    }\n",
              "\n",
              "    [theme=dark] .colab-df-convert {\n",
              "      background-color: #3B4455;\n",
              "      fill: #D2E3FC;\n",
              "    }\n",
              "\n",
              "    [theme=dark] .colab-df-convert:hover {\n",
              "      background-color: #434B5C;\n",
              "      box-shadow: 0px 1px 3px 1px rgba(0, 0, 0, 0.15);\n",
              "      filter: drop-shadow(0px 1px 2px rgba(0, 0, 0, 0.3));\n",
              "      fill: #FFFFFF;\n",
              "    }\n",
              "  </style>\n",
              "\n",
              "    <script>\n",
              "      const buttonEl =\n",
              "        document.querySelector('#df-ae4dadf3-e9a0-4742-9352-1dbc1a66a0f6 button.colab-df-convert');\n",
              "      buttonEl.style.display =\n",
              "        google.colab.kernel.accessAllowed ? 'block' : 'none';\n",
              "\n",
              "      async function convertToInteractive(key) {\n",
              "        const element = document.querySelector('#df-ae4dadf3-e9a0-4742-9352-1dbc1a66a0f6');\n",
              "        const dataTable =\n",
              "          await google.colab.kernel.invokeFunction('convertToInteractive',\n",
              "                                                    [key], {});\n",
              "        if (!dataTable) return;\n",
              "\n",
              "        const docLinkHtml = 'Like what you see? Visit the ' +\n",
              "          '<a target=\"_blank\" href=https://colab.research.google.com/notebooks/data_table.ipynb>data table notebook</a>'\n",
              "          + ' to learn more about interactive tables.';\n",
              "        element.innerHTML = '';\n",
              "        dataTable['output_type'] = 'display_data';\n",
              "        await google.colab.output.renderOutput(dataTable, element);\n",
              "        const docLink = document.createElement('div');\n",
              "        docLink.innerHTML = docLinkHtml;\n",
              "        element.appendChild(docLink);\n",
              "      }\n",
              "    </script>\n",
              "  </div>\n",
              "\n",
              "\n",
              "    <div id=\"df-ce3dc972-f6f3-4788-89ad-85be03f8f554\">\n",
              "      <button class=\"colab-df-quickchart\" onclick=\"quickchart('df-ce3dc972-f6f3-4788-89ad-85be03f8f554')\"\n",
              "                title=\"Suggest charts\"\n",
              "                style=\"display:none;\">\n",
              "\n",
              "<svg xmlns=\"http://www.w3.org/2000/svg\" height=\"24px\"viewBox=\"0 0 24 24\"\n",
              "     width=\"24px\">\n",
              "    <g>\n",
              "        <path d=\"M19 3H5c-1.1 0-2 .9-2 2v14c0 1.1.9 2 2 2h14c1.1 0 2-.9 2-2V5c0-1.1-.9-2-2-2zM9 17H7v-7h2v7zm4 0h-2V7h2v10zm4 0h-2v-4h2v4z\"/>\n",
              "    </g>\n",
              "</svg>\n",
              "      </button>\n",
              "\n",
              "<style>\n",
              "  .colab-df-quickchart {\n",
              "      --bg-color: #E8F0FE;\n",
              "      --fill-color: #1967D2;\n",
              "      --hover-bg-color: #E2EBFA;\n",
              "      --hover-fill-color: #174EA6;\n",
              "      --disabled-fill-color: #AAA;\n",
              "      --disabled-bg-color: #DDD;\n",
              "  }\n",
              "\n",
              "  [theme=dark] .colab-df-quickchart {\n",
              "      --bg-color: #3B4455;\n",
              "      --fill-color: #D2E3FC;\n",
              "      --hover-bg-color: #434B5C;\n",
              "      --hover-fill-color: #FFFFFF;\n",
              "      --disabled-bg-color: #3B4455;\n",
              "      --disabled-fill-color: #666;\n",
              "  }\n",
              "\n",
              "  .colab-df-quickchart {\n",
              "    background-color: var(--bg-color);\n",
              "    border: none;\n",
              "    border-radius: 50%;\n",
              "    cursor: pointer;\n",
              "    display: none;\n",
              "    fill: var(--fill-color);\n",
              "    height: 32px;\n",
              "    padding: 0;\n",
              "    width: 32px;\n",
              "  }\n",
              "\n",
              "  .colab-df-quickchart:hover {\n",
              "    background-color: var(--hover-bg-color);\n",
              "    box-shadow: 0 1px 2px rgba(60, 64, 67, 0.3), 0 1px 3px 1px rgba(60, 64, 67, 0.15);\n",
              "    fill: var(--button-hover-fill-color);\n",
              "  }\n",
              "\n",
              "  .colab-df-quickchart-complete:disabled,\n",
              "  .colab-df-quickchart-complete:disabled:hover {\n",
              "    background-color: var(--disabled-bg-color);\n",
              "    fill: var(--disabled-fill-color);\n",
              "    box-shadow: none;\n",
              "  }\n",
              "\n",
              "  .colab-df-spinner {\n",
              "    border: 2px solid var(--fill-color);\n",
              "    border-color: transparent;\n",
              "    border-bottom-color: var(--fill-color);\n",
              "    animation:\n",
              "      spin 1s steps(1) infinite;\n",
              "  }\n",
              "\n",
              "  @keyframes spin {\n",
              "    0% {\n",
              "      border-color: transparent;\n",
              "      border-bottom-color: var(--fill-color);\n",
              "      border-left-color: var(--fill-color);\n",
              "    }\n",
              "    20% {\n",
              "      border-color: transparent;\n",
              "      border-left-color: var(--fill-color);\n",
              "      border-top-color: var(--fill-color);\n",
              "    }\n",
              "    30% {\n",
              "      border-color: transparent;\n",
              "      border-left-color: var(--fill-color);\n",
              "      border-top-color: var(--fill-color);\n",
              "      border-right-color: var(--fill-color);\n",
              "    }\n",
              "    40% {\n",
              "      border-color: transparent;\n",
              "      border-right-color: var(--fill-color);\n",
              "      border-top-color: var(--fill-color);\n",
              "    }\n",
              "    60% {\n",
              "      border-color: transparent;\n",
              "      border-right-color: var(--fill-color);\n",
              "    }\n",
              "    80% {\n",
              "      border-color: transparent;\n",
              "      border-right-color: var(--fill-color);\n",
              "      border-bottom-color: var(--fill-color);\n",
              "    }\n",
              "    90% {\n",
              "      border-color: transparent;\n",
              "      border-bottom-color: var(--fill-color);\n",
              "    }\n",
              "  }\n",
              "</style>\n",
              "\n",
              "      <script>\n",
              "        async function quickchart(key) {\n",
              "          const quickchartButtonEl =\n",
              "            document.querySelector('#' + key + ' button');\n",
              "          quickchartButtonEl.disabled = true;  // To prevent multiple clicks.\n",
              "          quickchartButtonEl.classList.add('colab-df-spinner');\n",
              "          try {\n",
              "            const charts = await google.colab.kernel.invokeFunction(\n",
              "                'suggestCharts', [key], {});\n",
              "          } catch (error) {\n",
              "            console.error('Error during call to suggestCharts:', error);\n",
              "          }\n",
              "          quickchartButtonEl.classList.remove('colab-df-spinner');\n",
              "          quickchartButtonEl.classList.add('colab-df-quickchart-complete');\n",
              "        }\n",
              "        (() => {\n",
              "          let quickchartButtonEl =\n",
              "            document.querySelector('#df-ce3dc972-f6f3-4788-89ad-85be03f8f554 button');\n",
              "          quickchartButtonEl.style.display =\n",
              "            google.colab.kernel.accessAllowed ? 'block' : 'none';\n",
              "        })();\n",
              "      </script>\n",
              "    </div>\n",
              "\n",
              "    </div>\n",
              "  </div>\n"
            ],
            "application/vnd.google.colaboratory.intrinsic+json": {
              "type": "dataframe",
              "variable_name": "df"
            }
          },
          "metadata": {},
          "execution_count": 14
        }
      ]
    },
    {
      "cell_type": "markdown",
      "source": [
        "In this dataset, the column named diagnosis is my target.\n",
        "\n",
        "*  Values are likely M (malignant) and B (benign) — which means this is a binary classification problem."
      ],
      "metadata": {
        "id": "eR5N8k9SsRr1"
      }
    },
    {
      "cell_type": "markdown",
      "source": [
        "**Step 2** : Preprocessing (Cleaning + Encoding + Splitting)"
      ],
      "metadata": {
        "id": "VzJYfb3isr6C"
      }
    },
    {
      "cell_type": "code",
      "source": [
        "df = df.drop(columns=['id'], errors='ignore') # 1. Drop ID column because it is useless"
      ],
      "metadata": {
        "id": "sltcK_QWsxIl"
      },
      "execution_count": 15,
      "outputs": []
    },
    {
      "cell_type": "code",
      "source": [
        "df.isnull().sum()"
      ],
      "metadata": {
        "colab": {
          "base_uri": "https://localhost:8080/",
          "height": 1000
        },
        "id": "z43lXK__xmS8",
        "outputId": "f998c07a-d104-4480-a008-8b11697076a4"
      },
      "execution_count": 16,
      "outputs": [
        {
          "output_type": "execute_result",
          "data": {
            "text/plain": [
              "diagnosis                    0\n",
              "radius_mean                  0\n",
              "texture_mean                 0\n",
              "perimeter_mean               0\n",
              "area_mean                    0\n",
              "smoothness_mean              0\n",
              "compactness_mean             0\n",
              "concavity_mean               0\n",
              "concave points_mean          0\n",
              "symmetry_mean                0\n",
              "fractal_dimension_mean       0\n",
              "radius_se                    0\n",
              "texture_se                   0\n",
              "perimeter_se                 0\n",
              "area_se                      0\n",
              "smoothness_se                0\n",
              "compactness_se               0\n",
              "concavity_se                 0\n",
              "concave points_se            0\n",
              "symmetry_se                  0\n",
              "fractal_dimension_se         0\n",
              "radius_worst                 0\n",
              "texture_worst                0\n",
              "perimeter_worst              0\n",
              "area_worst                   0\n",
              "smoothness_worst             0\n",
              "compactness_worst            0\n",
              "concavity_worst              0\n",
              "concave points_worst         0\n",
              "symmetry_worst               0\n",
              "fractal_dimension_worst      0\n",
              "Unnamed: 32                569\n",
              "dtype: int64"
            ],
            "text/html": [
              "<div>\n",
              "<style scoped>\n",
              "    .dataframe tbody tr th:only-of-type {\n",
              "        vertical-align: middle;\n",
              "    }\n",
              "\n",
              "    .dataframe tbody tr th {\n",
              "        vertical-align: top;\n",
              "    }\n",
              "\n",
              "    .dataframe thead th {\n",
              "        text-align: right;\n",
              "    }\n",
              "</style>\n",
              "<table border=\"1\" class=\"dataframe\">\n",
              "  <thead>\n",
              "    <tr style=\"text-align: right;\">\n",
              "      <th></th>\n",
              "      <th>0</th>\n",
              "    </tr>\n",
              "  </thead>\n",
              "  <tbody>\n",
              "    <tr>\n",
              "      <th>diagnosis</th>\n",
              "      <td>0</td>\n",
              "    </tr>\n",
              "    <tr>\n",
              "      <th>radius_mean</th>\n",
              "      <td>0</td>\n",
              "    </tr>\n",
              "    <tr>\n",
              "      <th>texture_mean</th>\n",
              "      <td>0</td>\n",
              "    </tr>\n",
              "    <tr>\n",
              "      <th>perimeter_mean</th>\n",
              "      <td>0</td>\n",
              "    </tr>\n",
              "    <tr>\n",
              "      <th>area_mean</th>\n",
              "      <td>0</td>\n",
              "    </tr>\n",
              "    <tr>\n",
              "      <th>smoothness_mean</th>\n",
              "      <td>0</td>\n",
              "    </tr>\n",
              "    <tr>\n",
              "      <th>compactness_mean</th>\n",
              "      <td>0</td>\n",
              "    </tr>\n",
              "    <tr>\n",
              "      <th>concavity_mean</th>\n",
              "      <td>0</td>\n",
              "    </tr>\n",
              "    <tr>\n",
              "      <th>concave points_mean</th>\n",
              "      <td>0</td>\n",
              "    </tr>\n",
              "    <tr>\n",
              "      <th>symmetry_mean</th>\n",
              "      <td>0</td>\n",
              "    </tr>\n",
              "    <tr>\n",
              "      <th>fractal_dimension_mean</th>\n",
              "      <td>0</td>\n",
              "    </tr>\n",
              "    <tr>\n",
              "      <th>radius_se</th>\n",
              "      <td>0</td>\n",
              "    </tr>\n",
              "    <tr>\n",
              "      <th>texture_se</th>\n",
              "      <td>0</td>\n",
              "    </tr>\n",
              "    <tr>\n",
              "      <th>perimeter_se</th>\n",
              "      <td>0</td>\n",
              "    </tr>\n",
              "    <tr>\n",
              "      <th>area_se</th>\n",
              "      <td>0</td>\n",
              "    </tr>\n",
              "    <tr>\n",
              "      <th>smoothness_se</th>\n",
              "      <td>0</td>\n",
              "    </tr>\n",
              "    <tr>\n",
              "      <th>compactness_se</th>\n",
              "      <td>0</td>\n",
              "    </tr>\n",
              "    <tr>\n",
              "      <th>concavity_se</th>\n",
              "      <td>0</td>\n",
              "    </tr>\n",
              "    <tr>\n",
              "      <th>concave points_se</th>\n",
              "      <td>0</td>\n",
              "    </tr>\n",
              "    <tr>\n",
              "      <th>symmetry_se</th>\n",
              "      <td>0</td>\n",
              "    </tr>\n",
              "    <tr>\n",
              "      <th>fractal_dimension_se</th>\n",
              "      <td>0</td>\n",
              "    </tr>\n",
              "    <tr>\n",
              "      <th>radius_worst</th>\n",
              "      <td>0</td>\n",
              "    </tr>\n",
              "    <tr>\n",
              "      <th>texture_worst</th>\n",
              "      <td>0</td>\n",
              "    </tr>\n",
              "    <tr>\n",
              "      <th>perimeter_worst</th>\n",
              "      <td>0</td>\n",
              "    </tr>\n",
              "    <tr>\n",
              "      <th>area_worst</th>\n",
              "      <td>0</td>\n",
              "    </tr>\n",
              "    <tr>\n",
              "      <th>smoothness_worst</th>\n",
              "      <td>0</td>\n",
              "    </tr>\n",
              "    <tr>\n",
              "      <th>compactness_worst</th>\n",
              "      <td>0</td>\n",
              "    </tr>\n",
              "    <tr>\n",
              "      <th>concavity_worst</th>\n",
              "      <td>0</td>\n",
              "    </tr>\n",
              "    <tr>\n",
              "      <th>concave points_worst</th>\n",
              "      <td>0</td>\n",
              "    </tr>\n",
              "    <tr>\n",
              "      <th>symmetry_worst</th>\n",
              "      <td>0</td>\n",
              "    </tr>\n",
              "    <tr>\n",
              "      <th>fractal_dimension_worst</th>\n",
              "      <td>0</td>\n",
              "    </tr>\n",
              "    <tr>\n",
              "      <th>Unnamed: 32</th>\n",
              "      <td>569</td>\n",
              "    </tr>\n",
              "  </tbody>\n",
              "</table>\n",
              "</div><br><label><b>dtype:</b> int64</label>"
            ]
          },
          "metadata": {},
          "execution_count": 16
        }
      ]
    },
    {
      "cell_type": "markdown",
      "source": [
        "so,  Unnamed column is whole empty so we will drop the column"
      ],
      "metadata": {
        "id": "YEw7Tobnx03H"
      }
    },
    {
      "cell_type": "code",
      "source": [
        "df = df.drop(columns=['Unnamed: 32'], errors='ignore')"
      ],
      "metadata": {
        "id": "tQRSNl9xyJ8b"
      },
      "execution_count": 22,
      "outputs": []
    },
    {
      "cell_type": "code",
      "source": [
        "df.isnull().sum()"
      ],
      "metadata": {
        "colab": {
          "base_uri": "https://localhost:8080/",
          "height": 1000
        },
        "id": "DDytp4nkyssC",
        "outputId": "f8be62b5-af9f-4d6c-e49d-96f70af4c0d3"
      },
      "execution_count": 23,
      "outputs": [
        {
          "output_type": "execute_result",
          "data": {
            "text/plain": [
              "diagnosis                  0\n",
              "radius_mean                0\n",
              "texture_mean               0\n",
              "perimeter_mean             0\n",
              "area_mean                  0\n",
              "smoothness_mean            0\n",
              "compactness_mean           0\n",
              "concavity_mean             0\n",
              "concave points_mean        0\n",
              "symmetry_mean              0\n",
              "fractal_dimension_mean     0\n",
              "radius_se                  0\n",
              "texture_se                 0\n",
              "perimeter_se               0\n",
              "area_se                    0\n",
              "smoothness_se              0\n",
              "compactness_se             0\n",
              "concavity_se               0\n",
              "concave points_se          0\n",
              "symmetry_se                0\n",
              "fractal_dimension_se       0\n",
              "radius_worst               0\n",
              "texture_worst              0\n",
              "perimeter_worst            0\n",
              "area_worst                 0\n",
              "smoothness_worst           0\n",
              "compactness_worst          0\n",
              "concavity_worst            0\n",
              "concave points_worst       0\n",
              "symmetry_worst             0\n",
              "fractal_dimension_worst    0\n",
              "dtype: int64"
            ],
            "text/html": [
              "<div>\n",
              "<style scoped>\n",
              "    .dataframe tbody tr th:only-of-type {\n",
              "        vertical-align: middle;\n",
              "    }\n",
              "\n",
              "    .dataframe tbody tr th {\n",
              "        vertical-align: top;\n",
              "    }\n",
              "\n",
              "    .dataframe thead th {\n",
              "        text-align: right;\n",
              "    }\n",
              "</style>\n",
              "<table border=\"1\" class=\"dataframe\">\n",
              "  <thead>\n",
              "    <tr style=\"text-align: right;\">\n",
              "      <th></th>\n",
              "      <th>0</th>\n",
              "    </tr>\n",
              "  </thead>\n",
              "  <tbody>\n",
              "    <tr>\n",
              "      <th>diagnosis</th>\n",
              "      <td>0</td>\n",
              "    </tr>\n",
              "    <tr>\n",
              "      <th>radius_mean</th>\n",
              "      <td>0</td>\n",
              "    </tr>\n",
              "    <tr>\n",
              "      <th>texture_mean</th>\n",
              "      <td>0</td>\n",
              "    </tr>\n",
              "    <tr>\n",
              "      <th>perimeter_mean</th>\n",
              "      <td>0</td>\n",
              "    </tr>\n",
              "    <tr>\n",
              "      <th>area_mean</th>\n",
              "      <td>0</td>\n",
              "    </tr>\n",
              "    <tr>\n",
              "      <th>smoothness_mean</th>\n",
              "      <td>0</td>\n",
              "    </tr>\n",
              "    <tr>\n",
              "      <th>compactness_mean</th>\n",
              "      <td>0</td>\n",
              "    </tr>\n",
              "    <tr>\n",
              "      <th>concavity_mean</th>\n",
              "      <td>0</td>\n",
              "    </tr>\n",
              "    <tr>\n",
              "      <th>concave points_mean</th>\n",
              "      <td>0</td>\n",
              "    </tr>\n",
              "    <tr>\n",
              "      <th>symmetry_mean</th>\n",
              "      <td>0</td>\n",
              "    </tr>\n",
              "    <tr>\n",
              "      <th>fractal_dimension_mean</th>\n",
              "      <td>0</td>\n",
              "    </tr>\n",
              "    <tr>\n",
              "      <th>radius_se</th>\n",
              "      <td>0</td>\n",
              "    </tr>\n",
              "    <tr>\n",
              "      <th>texture_se</th>\n",
              "      <td>0</td>\n",
              "    </tr>\n",
              "    <tr>\n",
              "      <th>perimeter_se</th>\n",
              "      <td>0</td>\n",
              "    </tr>\n",
              "    <tr>\n",
              "      <th>area_se</th>\n",
              "      <td>0</td>\n",
              "    </tr>\n",
              "    <tr>\n",
              "      <th>smoothness_se</th>\n",
              "      <td>0</td>\n",
              "    </tr>\n",
              "    <tr>\n",
              "      <th>compactness_se</th>\n",
              "      <td>0</td>\n",
              "    </tr>\n",
              "    <tr>\n",
              "      <th>concavity_se</th>\n",
              "      <td>0</td>\n",
              "    </tr>\n",
              "    <tr>\n",
              "      <th>concave points_se</th>\n",
              "      <td>0</td>\n",
              "    </tr>\n",
              "    <tr>\n",
              "      <th>symmetry_se</th>\n",
              "      <td>0</td>\n",
              "    </tr>\n",
              "    <tr>\n",
              "      <th>fractal_dimension_se</th>\n",
              "      <td>0</td>\n",
              "    </tr>\n",
              "    <tr>\n",
              "      <th>radius_worst</th>\n",
              "      <td>0</td>\n",
              "    </tr>\n",
              "    <tr>\n",
              "      <th>texture_worst</th>\n",
              "      <td>0</td>\n",
              "    </tr>\n",
              "    <tr>\n",
              "      <th>perimeter_worst</th>\n",
              "      <td>0</td>\n",
              "    </tr>\n",
              "    <tr>\n",
              "      <th>area_worst</th>\n",
              "      <td>0</td>\n",
              "    </tr>\n",
              "    <tr>\n",
              "      <th>smoothness_worst</th>\n",
              "      <td>0</td>\n",
              "    </tr>\n",
              "    <tr>\n",
              "      <th>compactness_worst</th>\n",
              "      <td>0</td>\n",
              "    </tr>\n",
              "    <tr>\n",
              "      <th>concavity_worst</th>\n",
              "      <td>0</td>\n",
              "    </tr>\n",
              "    <tr>\n",
              "      <th>concave points_worst</th>\n",
              "      <td>0</td>\n",
              "    </tr>\n",
              "    <tr>\n",
              "      <th>symmetry_worst</th>\n",
              "      <td>0</td>\n",
              "    </tr>\n",
              "    <tr>\n",
              "      <th>fractal_dimension_worst</th>\n",
              "      <td>0</td>\n",
              "    </tr>\n",
              "  </tbody>\n",
              "</table>\n",
              "</div><br><label><b>dtype:</b> int64</label>"
            ]
          },
          "metadata": {},
          "execution_count": 23
        }
      ]
    },
    {
      "cell_type": "code",
      "source": [
        "df['diagnosis'] = df['diagnosis'].map({'M': 1, 'B': 0}) # 2. Convert diagnosis to numeric"
      ],
      "metadata": {
        "id": "eF2BMi8StWVq"
      },
      "execution_count": 24,
      "outputs": []
    },
    {
      "cell_type": "code",
      "source": [
        "# 3. Separate features and labels\n",
        "\n",
        "X = df.drop(columns=['diagnosis'])\n",
        "y = df['diagnosis']"
      ],
      "metadata": {
        "id": "9v23kAVUtpFK"
      },
      "execution_count": 25,
      "outputs": []
    },
    {
      "cell_type": "code",
      "source": [
        "# 4. Train-test split\n",
        "\n",
        "from sklearn.model_selection import train_test_split\n",
        "X_train, X_test, y_train, y_test = train_test_split(X, y, test_size=0.2, random_state=42)"
      ],
      "metadata": {
        "id": "zUaqF3ADt4A3"
      },
      "execution_count": 26,
      "outputs": []
    },
    {
      "cell_type": "code",
      "source": [
        "# 5. Standardize features (important for Logistic Regression)\n",
        "\n",
        "from sklearn.preprocessing import StandardScaler\n",
        "\n",
        "scaler = StandardScaler()\n",
        "X_train = scaler.fit_transform(X_train)\n",
        "X_test = scaler.transform(X_test)"
      ],
      "metadata": {
        "id": "mG8GAtm8utdk"
      },
      "execution_count": 27,
      "outputs": []
    },
    {
      "cell_type": "code",
      "source": [
        "print(\"X_train:\", X_train.shape)\n",
        "print(\"X_test :\", X_test.shape)\n",
        "print(\"y_train:\", y_train.shape)\n",
        "print(\"y_test :\", y_test.shape)"
      ],
      "metadata": {
        "colab": {
          "base_uri": "https://localhost:8080/"
        },
        "id": "yHYhuIezvkzy",
        "outputId": "af1802ce-65b1-4923-9398-76fc216e7e4e"
      },
      "execution_count": 28,
      "outputs": [
        {
          "output_type": "stream",
          "name": "stdout",
          "text": [
            "X_train: (455, 30)\n",
            "X_test : (114, 30)\n",
            "y_train: (455,)\n",
            "y_test : (114,)\n"
          ]
        }
      ]
    },
    {
      "cell_type": "markdown",
      "source": [
        "**Step 3** : Train the Logistic Regression Model"
      ],
      "metadata": {
        "id": "r9W9NmR4v7NF"
      }
    },
    {
      "cell_type": "code",
      "source": [
        "from sklearn.linear_model import LogisticRegression\n",
        "\n",
        "# Create and train the model\n",
        "model = LogisticRegression()\n",
        "model.fit(X_train, y_train)\n",
        "\n",
        "# Predict on test data\n",
        "y_pred = model.predict(X_test)"
      ],
      "metadata": {
        "id": "0WYK7b1sv_Ip"
      },
      "execution_count": 29,
      "outputs": []
    },
    {
      "cell_type": "markdown",
      "source": [
        "**Step 4** : Model Evaluation"
      ],
      "metadata": {
        "id": "qgc_BLQt0uZ6"
      }
    },
    {
      "cell_type": "markdown",
      "source": [
        "Now let’s evaluate how well my model is performing using these metrics:\n",
        "\n",
        "*  Confusion Matrix\n",
        "\n",
        "*  Precision & Recall\n",
        "\n",
        "*  ROC-AUC Curve"
      ],
      "metadata": {
        "id": "hhYmUums1CAJ"
      }
    },
    {
      "cell_type": "code",
      "source": [
        "from sklearn.metrics import confusion_matrix, classification_report, roc_auc_score, roc_curve\n",
        "import matplotlib.pyplot as plt\n",
        "import seaborn as sns"
      ],
      "metadata": {
        "id": "NHG1ZNBO1Lgt"
      },
      "execution_count": 30,
      "outputs": []
    },
    {
      "cell_type": "code",
      "source": [
        "# 1. Confusion matrix\n",
        "\n",
        "cm = confusion_matrix(y_test, y_pred)\n",
        "sns.heatmap(cm, annot=True, fmt=\"d\", cmap=\"Blues\")\n",
        "plt.xlabel(\"Predicted\")\n",
        "plt.ylabel(\"Actual\")\n",
        "plt.title(\"Confusion Matrix\")\n",
        "plt.show()"
      ],
      "metadata": {
        "colab": {
          "base_uri": "https://localhost:8080/",
          "height": 472
        },
        "id": "5aCjBCbd1UgH",
        "outputId": "c783c827-2366-4ab4-94e4-1dc9c4934860"
      },
      "execution_count": 31,
      "outputs": [
        {
          "output_type": "display_data",
          "data": {
            "text/plain": [
              "<Figure size 640x480 with 2 Axes>"
            ],
            "image/png": "[encoded data removed]"
          },
          "metadata": {}
        }
      ]
    },
    {
      "cell_type": "markdown",
      "source": [
        "The heatmap shows how many samples fall into each category:\n",
        "\n",
        " *  Top-left (TN): Model correctly predicted \"Benign\"\n",
        "\n",
        " *  Bottom-right (TP): Model correctly predicted \"Malignant\"\n",
        "\n",
        " *  Top-right (FP): Model wrongly predicted \"Malignant\" (false alarm)\n",
        "\n",
        " *  Bottom-left (FN): Model missed a \"Malignant\" case (very bad in medical)\n",
        "\n",
        "👉 Doctors hate FN — you don’t want to miss cancer."
      ],
      "metadata": {
        "id": "nKlLPck-4Nk8"
      }
    },
    {
      "cell_type": "code",
      "source": [
        "# 2. Classification report\n",
        "\n",
        "print(\"Classification Report:\\n\")\n",
        "print(classification_report(y_test, y_pred))"
      ],
      "metadata": {
        "colab": {
          "base_uri": "https://localhost:8080/"
        },
        "id": "7JAS4hT81wKV",
        "outputId": "a5265a8f-a99a-4415-c968-6dadcbbf7c0e"
      },
      "execution_count": 32,
      "outputs": [
        {
          "output_type": "stream",
          "name": "stdout",
          "text": [
            "Classification Report:\n",
            "\n",
            "              precision    recall  f1-score   support\n",
            "\n",
            "           0       0.97      0.99      0.98        71\n",
            "           1       0.98      0.95      0.96        43\n",
            "\n",
            "    accuracy                           0.97       114\n",
            "   macro avg       0.97      0.97      0.97       114\n",
            "weighted avg       0.97      0.97      0.97       114\n",
            "\n"
          ]
        }
      ]
    },
    {
      "cell_type": "markdown",
      "source": [
        "**Precision** :\tOf all predicted \"Malignant\", how many were actually malignant?\t    TP / (TP + FP)\n",
        "\n",
        "**Recall**  :\tOf all actual \"Malignant\", how many did we correctly predict?\t    TP / (TP + FN)\n",
        "\n",
        "**F1-score**  :\tBalance between Precision and Recall (harmonic mean)\t    2 * (P * R) / (P + R)"
      ],
      "metadata": {
        "id": "U_YXKH4m4tJo"
      }
    },
    {
      "cell_type": "code",
      "source": [
        "# 3. ROC-AUC Score\n",
        "\n",
        "y_proba = model.predict_proba(X_test)[:,1]\n",
        "auc = roc_auc_score(y_test, y_proba)\n",
        "print(f\"ROC-AUC Score: {auc:.4f}\")"
      ],
      "metadata": {
        "colab": {
          "base_uri": "https://localhost:8080/"
        },
        "id": "YBzTdowS17c8",
        "outputId": "37055fd9-17a1-4d7b-9818-0c3e82787464"
      },
      "execution_count": 33,
      "outputs": [
        {
          "output_type": "stream",
          "name": "stdout",
          "text": [
            "ROC-AUC Score: 0.9974\n"
          ]
        }
      ]
    },
    {
      "cell_type": "code",
      "source": [
        "# 4. ROC Curve\n",
        "\n",
        "fpr, tpr, thresholds = roc_curve(y_test, y_proba)\n",
        "plt.plot(fpr, tpr, label=f\"AUC = {auc:.2f}\")\n",
        "plt.plot([0,1],[0,1],'--', color='gray')\n",
        "plt.xlabel(\"False Positive Rate\")\n",
        "plt.ylabel(\"True Positive Rate\")\n",
        "plt.title(\"ROC Curve\")\n",
        "plt.legend()\n",
        "plt.grid()\n",
        "plt.show()"
      ],
      "metadata": {
        "colab": {
          "base_uri": "https://localhost:8080/",
          "height": 472
        },
        "id": "5oLMr7R52Ae6",
        "outputId": "1f286794-b4fb-4a83-df29-cdd703b40928"
      },
      "execution_count": 34,
      "outputs": [
        {
          "output_type": "display_data",
          "data": {
            "text/plain": [
              "<Figure size 640x480 with 1 Axes>"
            ],
            "image/png": "[encoded data removed]"
          },
          "metadata": {}
        }
      ]
    },
    {
      "cell_type": "markdown",
      "source": [
        "X-axis = False Positive Rate (FPR)\n",
        "\n",
        "Y-axis = True Positive Rate (TPR)\n",
        "\n",
        "The closer the curve is to the top-left, the better.\n",
        "\n",
        "\n",
        "ROC Curve\t=  Receiver Operating Characteristic curve\n",
        "\n",
        "AUC Score\t=  Area under the curve (0 to 1) — higher is better\n",
        "*  AUC = 1.0 → Perfect\n",
        "*  AUC = 0.5 → Random guessing\n",
        "*  AUC < 0.5 → Worse than guessing"
      ],
      "metadata": {
        "id": "R2i0qmpP5N04"
      }
    },
    {
      "cell_type": "markdown",
      "source": [
        "**Step 5** : Sigmoid Function"
      ],
      "metadata": {
        "id": "YAdPROXb-eCO"
      }
    },
    {
      "cell_type": "markdown",
      "source": [
        "### What is the Sigmoid Function?\n",
        "\n",
        "*  The sigmoid function is used in logistic regression to convert raw values (log-odds) into probabilities between 0 and 1."
      ],
      "metadata": {
        "id": "cpJsMq1G-jGw"
      }
    },
    {
      "cell_type": "markdown",
      "source": [
        "![Screenshot 2025-06-27 113720.png](data:image/png;base64,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)"
      ],
      "metadata": {
        "id": "S6NsBA_F_4KH"
      }
    },
    {
      "cell_type": "markdown",
      "source": [
        "for ex."
      ],
      "metadata": {
        "id": "ZRU-JmFtASpz"
      }
    },
    {
      "cell_type": "code",
      "source": [
        "import numpy as np\n",
        "import matplotlib.pyplot as plt\n",
        "\n",
        "def sigmoid(x):\n",
        "    return 1 / (1 + np.exp(-x))\n",
        "\n",
        "x = np.linspace(-10, 10, 100)\n",
        "y = sigmoid(x)\n",
        "\n",
        "plt.plot(x, y)\n",
        "plt.title(\"Sigmoid Function\")\n",
        "plt.xlabel(\"Input (z)\")\n",
        "plt.ylabel(\"Sigmoid(z)\")\n",
        "plt.grid()\n",
        "plt.show()\n"
      ],
      "metadata": {
        "colab": {
          "base_uri": "https://localhost:8080/",
          "height": 472
        },
        "id": "4FIJdB_a_AjH",
        "outputId": "573cae10-4ef2-4897-ab5b-464b121c11cb"
      },
      "execution_count": 35,
      "outputs": [
        {
          "output_type": "display_data",
          "data": {
            "text/plain": [
              "<Figure size 640x480 with 1 Axes>"
            ],
            "image/png": "[encoded data removed]"
          },
          "metadata": {}
        }
      ]
    },
    {
      "cell_type": "markdown",
      "source": [
        "**Step 6** : Threshold Tuning\n"
      ],
      "metadata": {
        "id": "5BF-V7IHAbG1"
      }
    },
    {
      "cell_type": "markdown",
      "source": [
        "Sometimes the default threshold (0.5) is not best — especially when:\n",
        "\n",
        "*  False negatives are costly (e.g., cancer detection)\n",
        "\n",
        "*  Data is imbalanced\n",
        "\n",
        "Let’s test how changing the threshold affects predictions."
      ],
      "metadata": {
        "id": "nE3SFOMJAm7v"
      }
    },
    {
      "cell_type": "code",
      "source": [
        "# Custom threshold\n",
        "custom_threshold = 0.3\n",
        "y_pred_custom = (y_proba >= custom_threshold).astype(int)\n",
        "\n",
        "# New confusion matrix\n",
        "cm_custom = confusion_matrix(y_test, y_pred_custom)\n",
        "sns.heatmap(cm_custom, annot=True, fmt=\"d\", cmap=\"Oranges\")\n",
        "plt.xlabel(\"Predicted\")\n",
        "plt.ylabel(\"Actual\")\n",
        "plt.title(f\"Confusion Matrix (Threshold = {custom_threshold})\")\n",
        "plt.show()\n"
      ],
      "metadata": {
        "colab": {
          "base_uri": "https://localhost:8080/",
          "height": 472
        },
        "id": "UGqDtprBAvJ0",
        "outputId": "f3d2fd76-97a0-4a8c-959b-913c78a55284"
      },
      "execution_count": 36,
      "outputs": [
        {
          "output_type": "display_data",
          "data": {
            "text/plain": [
              "<Figure size 640x480 with 2 Axes>"
            ],
            "image/png": "[encoded data removed]"
          },
          "metadata": {}
        }
      ]
    },
    {
      "cell_type": "markdown",
      "source": [
        "You can try different values like 0.4, 0.6, etc. and observe how performance changes.\n",
        "\n"
      ],
      "metadata": {
        "id": "oEeUu4fjA6Rx"
      }
    },
    {
      "cell_type": "markdown",
      "source": [
        "So, Task 04 is done."
      ],
      "metadata": {
        "id": "t26-pmJXA8W2"
      }
    }
  ]
}